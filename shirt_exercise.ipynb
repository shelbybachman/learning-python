{
  "nbformat": 4,
  "nbformat_minor": 0,
  "metadata": {
    "colab": {
      "name": "shirt-exercise.ipynb",
      "provenance": [],
      "collapsed_sections": []
    },
    "kernelspec": {
      "name": "python3",
      "display_name": "Python 3"
    },
    "language_info": {
      "name": "python"
    }
  },
  "cells": [
    {
      "cell_type": "markdown",
      "metadata": {
        "id": "WFl3ufqhwVwl"
      },
      "source": [
        "Demonstration of classes and instantiating objects"
      ]
    },
    {
      "cell_type": "markdown",
      "metadata": {
        "id": "0erWbtflzMqn"
      },
      "source": [
        "### Shirt class"
      ]
    },
    {
      "cell_type": "code",
      "metadata": {
        "id": "v0wAeTwgtnO8"
      },
      "source": [
        "# create the shirt class\n",
        "class Shirt:\n",
        "  def __init__(self, shirt_color, shirt_size, shirt_style, shirt_price):\n",
        "    \"\"\"Method for instantiation of a Shirt object\n",
        "\n",
        "    Args: \n",
        "      shirt_color (str)\n",
        "      shirt_size (int)\n",
        "      shirt_style (int)\n",
        "      shirt_price (float)\n",
        "\n",
        "    Attributes:\n",
        "        color (str): color of the shirt\n",
        "        size (str): size of the shirt\n",
        "        style (str): style of the shirt (long-, short-sleeved)\n",
        "        price (float): price of the shirt\n",
        "\n",
        "    \"\"\"\n",
        "    self.color = shirt_color\n",
        "    self.size = shirt_size\n",
        "    self.style = shirt_style\n",
        "    self.price = shirt_price\n",
        "\n",
        "  def change_price(self, new_price):\n",
        "    \"\"\"The change_price method updates the price of the shirt\n",
        "\n",
        "    Args: \n",
        "      new_price (float): new price of the shirt\n",
        "    \n",
        "    Returns: None\n",
        "    \n",
        "    \"\"\"\n",
        "    self.price = new_price\n",
        "  \n",
        "  def discount_price(self, discount):\n",
        "    \"\"\"The discount method returns the price of shirt if discounted by a specific percentage\n",
        "\n",
        "    Args:\n",
        "      discount (float): discount percentage as a decimal\n",
        "\n",
        "    Returns: \n",
        "      float: discounted price of shirt\n",
        "    \n",
        "    \"\"\"\n",
        "    return self.price * (1-discount)"
      ],
      "execution_count": 1,
      "outputs": []
    },
    {
      "cell_type": "code",
      "metadata": {
        "id": "hhraqll_wQDd"
      },
      "source": [
        "# instantiate one shirt object\n",
        "shirt_one = Shirt('red', 'S', 'long-sleeve', 25)\n",
        "\n",
        "# instantiate a second shirt object\n",
        "shirt_two = Shirt('orange', 'L', 'short-sleeve', 10)"
      ],
      "execution_count": 2,
      "outputs": []
    },
    {
      "cell_type": "code",
      "metadata": {
        "colab": {
          "base_uri": "https://localhost:8080/"
        },
        "id": "KiHi61W4xhpP",
        "outputId": "d9537503-0b1d-4481-afe0-fcdd75eeb39f"
      },
      "source": [
        "# calculate the cost of shirts one and two\n",
        "total = shirt_one.price + shirt_two.price\n",
        "print(total)"
      ],
      "execution_count": 3,
      "outputs": [
        {
          "output_type": "stream",
          "name": "stdout",
          "text": [
            "35\n"
          ]
        }
      ]
    },
    {
      "cell_type": "code",
      "metadata": {
        "colab": {
          "base_uri": "https://localhost:8080/"
        },
        "id": "pDteloAQxvUc",
        "outputId": "e0778fc7-019a-46f9-9184-0000d11f423b"
      },
      "source": [
        "# calculate total cost if shirt_one has a discount of 14%\n",
        "# and if shirt_two has a discount of 6%\n",
        "total_discount = shirt_one.discount_price(.14) + shirt_two.discount_price(.06)\n",
        "print(total_discount)"
      ],
      "execution_count": 11,
      "outputs": [
        {
          "output_type": "stream",
          "name": "stdout",
          "text": [
            "30.9\n"
          ]
        }
      ]
    },
    {
      "cell_type": "code",
      "metadata": {
        "id": "KUYMEKclx__M"
      },
      "source": [
        "# define several unit tests\n",
        "def run_tests(shirt_one, shirt_two, total_cost, total_discount):\n",
        " \n",
        "    # Unit tests to check your solution\n",
        "    assert shirt_one.price == 25, 'shirt_one price should be 25'\n",
        "    assert shirt_one.color == 'red', ' shirt_one should be red'\n",
        "    assert shirt_one.style == 'long-sleeve', 'shirt_one should be long_sleeve style'\n",
        "    assert shirt_one.size == 'S', 'shirt_one size should be S'\n",
        "\n",
        "    assert shirt_two.price == 10, 'shirt_two price should be 10'\n",
        "    assert shirt_two.color == 'orange', 'shirt_two should be orange'\n",
        "    assert shirt_two.style == 'short-sleeve', 'shirt_two should be short_sleeve style'\n",
        "    assert shirt_two.size == 'L', 'shirt_two size should be L'\n",
        "\n",
        "    assert total_cost == 35, 'the total_cost of both shirts should be 35'\n",
        "    \n",
        "    assert round(total_discount) == 31, 'total_discount should be 30.9'"
      ],
      "execution_count": 14,
      "outputs": []
    },
    {
      "cell_type": "code",
      "metadata": {
        "id": "8QUuhB12yV4t"
      },
      "source": [
        "# run unit tests\n",
        "run_tests(shirt_one, shirt_two, total, total_discount)"
      ],
      "execution_count": 15,
      "outputs": []
    },
    {
      "cell_type": "markdown",
      "metadata": {
        "id": "V0uJuD5TzUP_"
      },
      "source": [
        "### Pants class"
      ]
    },
    {
      "cell_type": "code",
      "metadata": {
        "id": "YzWKPdFMzPye"
      },
      "source": [
        "# create the shirt class\n",
        "class Pants:\n",
        "  def __init__(self, pants_color, waist_size, pants_length, pants_price):\n",
        "    \n",
        "    \"\"\"Method for instantiation of a Pants object\n",
        "\n",
        "    Args: \n",
        "      pants_color (str)\n",
        "      waist_size (int)\n",
        "      pants_length (int)\n",
        "      pants_price (float)\n",
        "\n",
        "    Attributes:\n",
        "        color (str): color of the pants\n",
        "        waist_size (int): waist size of the pants\n",
        "        length (int): length of the pants\n",
        "        price (float): price of the pants\n",
        "\n",
        "    \"\"\"\n",
        "    self.color = pants_color\n",
        "    self.waist_size = waist_size\n",
        "    self.length = pants_length\n",
        "    self.price = pants_price\n",
        "\n",
        "  def change_price(self, new_price):\n",
        "    \"\"\"The change_price method updates the price of the pants\n",
        "\n",
        "    Args: \n",
        "      new_price (float): new price of the pants\n",
        "    \n",
        "    Returns: None\n",
        "    \n",
        "    \"\"\"\n",
        "    self.price = new_price\n",
        "  \n",
        "  def discount(self, discount):\n",
        "    \"\"\"The discount method returns the price of pants if discounted by a specific percentage\n",
        "\n",
        "    Args:\n",
        "      discount (float): discount percentage as a decimal\n",
        "\n",
        "    Returns: \n",
        "      float: discounted price of pants\n",
        "    \n",
        "    \"\"\"\n",
        "    return self.price * (1-discount)"
      ],
      "execution_count": 17,
      "outputs": []
    },
    {
      "cell_type": "code",
      "metadata": {
        "colab": {
          "base_uri": "https://localhost:8080/"
        },
        "id": "_L2dvT-nzxtf",
        "outputId": "48c14b3f-e671-40e2-96f6-a52b3395220c"
      },
      "source": [
        "# check the results\n",
        "def check_results():\n",
        "  pants = Pants('red', 35, 36, 15.12)\n",
        "  assert pants.color == 'red'\n",
        "  assert pants.waist_size == 35\n",
        "  assert pants.length == 36\n",
        "  assert pants.price == 15.12\n",
        "  pants.change_price(10)\n",
        "  assert pants.price == 10\n",
        "  assert pants.discount(.1) == 9\n",
        "  print('Check finished. Good job!')\n",
        "\n",
        "check_results()"
      ],
      "execution_count": 20,
      "outputs": [
        {
          "output_type": "stream",
          "name": "stdout",
          "text": [
            "Check finished. Good job!\n"
          ]
        }
      ]
    },
    {
      "cell_type": "markdown",
      "metadata": {
        "id": "yykAFEFm0Vd_"
      },
      "source": [
        "### SalesPerson class"
      ]
    },
    {
      "cell_type": "code",
      "metadata": {
        "id": "DVDAesZf0Wrs"
      },
      "source": [
        "# create the SalesPerson class\n",
        "class SalesPerson:\n",
        "  def __init__(self, first_name, last_name, employee_id, salary):\n",
        "    \"\"\"Method for instantiation of a SalesPerson object\n",
        "\n",
        "    Args: \n",
        "      first_name (str)\n",
        "      last_name (str)\n",
        "      employee_id (int)\n",
        "      salary (float)\n",
        "\n",
        "    Attributes:\n",
        "        first_name (str): first name of the employee\n",
        "        last_name (str): last name of the employee\n",
        "        employee_id (int): identification number of the employee\n",
        "        salary (float): yearly salary of the employee\n",
        "        pants_sold (list): a list of pants objects sold by the employee\n",
        "        total_sales (float): sum of all sales made by the employee\n",
        "\n",
        "    \"\"\"\n",
        "    self.first_name = first_name\n",
        "    self.last_name = last_name\n",
        "    self.employee_id = employee_id\n",
        "    self.salary = salary\n",
        "    self.pants_sold = []\n",
        "    self.total_sales = 0\n",
        "\n",
        "  def sell_pants(self, pants_object):\n",
        "    \"\"\"The sell_pants method appends a pants object to the pants_sold attribute\n",
        "    \n",
        "    Args:\n",
        "      pants_object (obj): a pants object\n",
        "    \n",
        "    Returns: None\n",
        "\n",
        "    \"\"\"\n",
        "    self.pants_sold.append(pants_object)\n",
        "\n",
        "  def calculate_sales(self):\n",
        "    \"\"\"The calculate_sales method sums the total price of all pants sold\n",
        "\n",
        "    Args: None\n",
        "\n",
        "    Returns: \n",
        "      float: sum of the price for all pants sold\n",
        "    \n",
        "    \"\"\"\n",
        "    for pants in self.pants_sold:\n",
        "      self.total_sales += pants.price\n",
        "    return(self.total_sales)\n",
        "\n",
        "  def display_sales(self):\n",
        "    \"\"\"The display_sales method prints out all pants that have been sold\n",
        "\n",
        "    Args: None\n",
        "\n",
        "    Returns: None\n",
        "\n",
        "    \"\"\"\n",
        "    for pants in self.pants_sold:\n",
        "      print('color: {}, waist_size: {}, length: {}, price: {}'.format(pants.color, pants.waist_size, pants.length, pants.price))\n",
        "\n",
        "  def calculate_commission(self, commission_pct):\n",
        "    \"\"\" The calculate_commission method outputs the commission based on sales\n",
        "    \n",
        "    Args:\n",
        "      commission_pct (float): the commission percentage as a decimal\n",
        "\n",
        "    Returns:\n",
        "      float: the commission due\n",
        "\n",
        "    \"\"\"\n",
        "    return (commission_pct * self.total_sales)"
      ],
      "execution_count": 46,
      "outputs": []
    },
    {
      "cell_type": "code",
      "metadata": {
        "colab": {
          "base_uri": "https://localhost:8080/"
        },
        "id": "qp2nr0O52k1f",
        "outputId": "7e67f526-a2ef-4dec-c33f-c815e7d1bf0a"
      },
      "source": [
        "# run tests to check the results\n",
        "def check_results():\n",
        "  pants_one = Pants('red', 35, 36, 15.12)\n",
        "  pants_two = Pants('blue', 40, 38, 24.12)\n",
        "  pants_three = Pants('tan', 28, 30, 8.12)\n",
        "\n",
        "  salesperson = SalesPerson('Amy', 'Gonzalez', 2581923, 40000)\n",
        "\n",
        "  assert salesperson.first_name == 'Amy'\n",
        "  assert salesperson.last_name == 'Gonzalez'\n",
        "  assert salesperson.employee_id == 2581923\n",
        "  assert salesperson.salary == 40000\n",
        "  assert salesperson.pants_sold == []\n",
        "  assert salesperson.total_sales == 0\n",
        "\n",
        "  salesperson.sell_pants(pants_one)\n",
        "  salesperson.pants_sold[0] == pants_one.color\n",
        "\n",
        "  salesperson.sell_pants(pants_two)\n",
        "  salesperson.sell_pants(pants_three)\n",
        "\n",
        "  assert len(salesperson.pants_sold) == 3\n",
        "  assert round(salesperson.calculate_sales(),2) == 47.36\n",
        "  assert round(salesperson.calculate_commission(.1),2 == 4.74)\n",
        "  print('Nice work!')\n",
        "\n",
        "# run the tests\n",
        "check_results()"
      ],
      "execution_count": 44,
      "outputs": [
        {
          "output_type": "stream",
          "name": "stdout",
          "text": [
            "Nice work!\n"
          ]
        }
      ]
    },
    {
      "cell_type": "code",
      "metadata": {
        "colab": {
          "base_uri": "https://localhost:8080/"
        },
        "id": "4le-zOYo6x1L",
        "outputId": "0996bf0c-ae39-4d2c-d646-cebd5482f22a"
      },
      "source": [
        "# a few more tests\n",
        "pants_one = Pants('red', 35, 36, 15.12)\n",
        "pants_two = Pants('blue', 40, 38, 24.12)\n",
        "pants_three = Pants('tan', 28, 30, 8.12)\n",
        "\n",
        "salesperson = SalesPerson('Amy', 'Gonzalez', 2581923, 40000)\n",
        "\n",
        "salesperson.sell_pants(pants_one)\n",
        "salesperson.sell_pants(pants_two)\n",
        "salesperson.sell_pants(pants_three)\n",
        "salesperson.display_sales()"
      ],
      "execution_count": 47,
      "outputs": [
        {
          "output_type": "stream",
          "name": "stdout",
          "text": [
            "color: red, waist_size: 35, length: 36, price: 15.12\n",
            "color: blue, waist_size: 40, length: 38, price: 24.12\n",
            "color: tan, waist_size: 28, length: 30, price: 8.12\n"
          ]
        }
      ]
    }
  ]
}