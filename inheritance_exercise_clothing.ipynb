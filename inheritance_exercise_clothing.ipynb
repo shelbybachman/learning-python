{
  "nbformat": 4,
  "nbformat_minor": 0,
  "metadata": {
    "colab": {
      "name": "inheritance-exercise-clothing.ipynb",
      "provenance": [],
      "collapsed_sections": []
    },
    "kernelspec": {
      "name": "python3",
      "display_name": "Python 3"
    },
    "language_info": {
      "name": "python"
    }
  },
  "cells": [
    {
      "cell_type": "code",
      "metadata": {
        "id": "I0Uok9IanDSb"
      },
      "source": [
        "class Clothing:\n",
        "\n",
        "    def __init__(self, color, size, style, price):\n",
        "        self.color = color\n",
        "        self.size = size\n",
        "        self.style = style\n",
        "        self.price = price\n",
        "        \n",
        "    def change_price(self, price):\n",
        "        self.price = price\n",
        "        \n",
        "    def calculate_discount(self, discount):\n",
        "        return self.price * (1 - discount)\n",
        "\n",
        "    def calculate_shipping(self, weight, rate):\n",
        "      return weight * rate"
      ],
      "execution_count": 1,
      "outputs": []
    },
    {
      "cell_type": "code",
      "metadata": {
        "id": "6MBYBX4jnK4Q"
      },
      "source": [
        "class Shirt(Clothing):\n",
        "    \n",
        "    def __init__(self, color, size, style, price, long_or_short):\n",
        "        \n",
        "        Clothing.__init__(self, color, size, style, price)\n",
        "        self.long_or_short = long_or_short\n",
        "    \n",
        "    def double_price(self):\n",
        "        self.price = 2*self.price"
      ],
      "execution_count": 2,
      "outputs": []
    },
    {
      "cell_type": "code",
      "metadata": {
        "id": "MS6JZQ8bnKtO"
      },
      "source": [
        "class Pants(Clothing):\n",
        "\n",
        "    def __init__(self, color, size, style, price, waist):\n",
        "        \n",
        "        Clothing.__init__(self, color, size, style, price)\n",
        "        self.waist = waist\n",
        "        \n",
        "    def calculate_discount(self, discount):\n",
        "        return self.price * (1 - discount / 2)"
      ],
      "execution_count": 3,
      "outputs": []
    },
    {
      "cell_type": "code",
      "metadata": {
        "id": "VCVDIWUunOaM"
      },
      "source": [
        "# create a new class Blouse, that inherits from the Clothing class\n",
        "# and has the the following attributes and methods:\n",
        "#   attributes: color, size, style, price, country_of_origin\n",
        "#     where country_of_origin is a string that holds the name of a \n",
        "#     country\n",
        "#\n",
        "#   methods: triple_price, which has no inputs and returns three times\n",
        "#     the price of the blouse\n",
        "\n",
        "# TODO: Add a method to the clothing class called calculate_shipping.\n",
        "#   The method has two inputs: weight and rate. Weight is a float\n",
        "#   representing the weight of the article of clothing. Rate is a float\n",
        "#   representing the shipping weight. The method returns weight * rate\n",
        "\n",
        "class Blouse(Clothing):\n",
        "  \n",
        "  def __init__(self, color, size, style, price, country_of_origin):\n",
        "    Clothing.__init__(self, color, size, style, price)\n",
        "    self.country_of_origin = country_of_origin\n",
        "  \n",
        "  def triple_price(self):\n",
        "    return self.price * 3"
      ],
      "execution_count": 4,
      "outputs": []
    },
    {
      "cell_type": "code",
      "metadata": {
        "id": "EHT-wuOOntiB"
      },
      "source": [
        "# unit tests to check your solution\n",
        "import unittest\n",
        "\n",
        "class TestClothingClass(unittest.TestCase):\n",
        "    def setUp(self):\n",
        "        self.clothing = Clothing('orange', 'M', 'stripes', 35)\n",
        "        self.blouse = Blouse('blue', 'M', 'luxury', 40, 'Brazil')\n",
        "        self.pants = Pants('black', 32, 'baggy', 60, 30)\n",
        "        \n",
        "    def test_initialization(self): \n",
        "        self.assertEqual(self.clothing.color, 'orange', 'color should be orange')\n",
        "        self.assertEqual(self.clothing.price, 35, 'incorrect price')\n",
        "        \n",
        "        self.assertEqual(self.blouse.color, 'blue', 'color should be blue')\n",
        "        self.assertEqual(self.blouse.size, 'M', 'incorrect size')\n",
        "        self.assertEqual(self.blouse.style, 'luxury', 'incorrect style')\n",
        "        self.assertEqual(self.blouse.price, 40, 'incorrect price')\n",
        "        self.assertEqual(self.blouse.country_of_origin, 'Brazil', 'incorrect country of origin')\n",
        "\n",
        "    def test_calculateshipping(self):\n",
        "        self.assertEqual(self.clothing.calculate_shipping(.5, 3), .5 * 3,\\\n",
        "         'Clothing shipping calculation not as expected') \n",
        "\n",
        "        self.assertEqual(self.blouse.calculate_shipping(.5, 3), .5 * 3,\\\n",
        "         'Clothing shipping calculation not as expected') \n",
        "    \n",
        "# run the tests\n",
        "tests = TestClothingClass()\n",
        "tests_loaded = unittest.TestLoader().loadTestsFromModule(tests)\n",
        "unittest.TextTestRunner().run(tests_loaded)"
      ],
      "execution_count": null,
      "outputs": []
    }
  ]
}